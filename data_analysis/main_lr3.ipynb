{
 "cells": [
  {
   "cell_type": "code",
   "execution_count": 1,
   "metadata": {},
   "outputs": [],
   "source": [
    "import numpy as np\n",
    "import pandas as pd\n",
    "import stocks_analyzer\n",
    "from pytrends.request import TrendReq\n",
    "from datetime import datetime, date\n",
    "import services\n",
    "import json\n",
    "import logging\n",
    "import logging.config\n",
    "import time\n",
    "from services.service_data import get_data"
   ]
  },
  {
   "cell_type": "code",
   "execution_count": 2,
   "metadata": {},
   "outputs": [],
   "source": [
    "config = None\n",
    "with open(\"config/config.json\", 'r') as file:\n",
    "    config = json.load(file)\n",
    "logging.config.dictConfig(config)"
   ]
  },
  {
   "cell_type": "code",
   "execution_count": 3,
   "metadata": {},
   "outputs": [
    {
     "name": "stderr",
     "output_type": "stream",
     "text": [
      "2024-12-03 17:04:08,583 MainProcess services.service_threads INFO     Service started\n"
     ]
    }
   ],
   "source": [
    "service_1 = services.ServiceThreads([\"Java\"], \"now 7-d\")\n",
    "service_1.start([\"Java\"], 10, \"res1.xlsx\")"
   ]
  },
  {
   "cell_type": "code",
   "execution_count": 4,
   "metadata": {},
   "outputs": [
    {
     "name": "stderr",
     "output_type": "stream",
     "text": [
      "2024-12-03 17:04:08,619 MainProcess services.service_threads INFO     Service started\n"
     ]
    }
   ],
   "source": [
    "service_2 = services.ServiceThreads([\"Java\"], \"now 7-d\")\n",
    "service_2.start([\"Java\"], 10, \"res2.xlsx\")"
   ]
  },
  {
   "cell_type": "code",
   "execution_count": 5,
   "metadata": {},
   "outputs": [
    {
     "name": "stderr",
     "output_type": "stream",
     "text": [
      "c:\\Users\\energ\\1\\projects\\Python\\6401marufjonovaa\\data_analysis\\.venv\\Lib\\site-packages\\pytrends\\request.py:260: FutureWarning: Downcasting object dtype arrays on .fillna, .ffill, .bfill is deprecated and will change in a future version. Call result.infer_objects(copy=False) instead. To opt-in to the future behavior, set `pd.set_option('future.no_silent_downcasting', True)`\n",
      "  df = df.fillna(False)\n",
      "2024-12-03 17:04:10,364 MainProcess services.service_data INFO     Get dataframe with size 169\n",
      "c:\\Users\\energ\\1\\projects\\Python\\6401marufjonovaa\\data_analysis\\.venv\\Lib\\site-packages\\pytrends\\request.py:260: FutureWarning: Downcasting object dtype arrays on .fillna, .ffill, .bfill is deprecated and will change in a future version. Call result.infer_objects(copy=False) instead. To opt-in to the future behavior, set `pd.set_option('future.no_silent_downcasting', True)`\n",
      "  df = df.fillna(False)\n",
      "2024-12-03 17:04:11,885 MainProcess services.service_data INFO     Get dataframe with size 169\n",
      "2024-12-03 17:04:12,702 MainProcess services.service_threads INFO     Succefull calculation of data. Saved to the file res2.xlsx\n"
     ]
    },
    {
     "name": "stderr",
     "output_type": "stream",
     "text": [
      "c:\\Users\\energ\\1\\projects\\Python\\6401marufjonovaa\\data_analysis\\.venv\\Lib\\site-packages\\pytrends\\request.py:260: FutureWarning: Downcasting object dtype arrays on .fillna, .ffill, .bfill is deprecated and will change in a future version. Call result.infer_objects(copy=False) instead. To opt-in to the future behavior, set `pd.set_option('future.no_silent_downcasting', True)`\n",
      "  df = df.fillna(False)\n",
      "2024-12-03 17:04:10,394 MainProcess services.service_data INFO     Get dataframe with size 169\n",
      "c:\\Users\\energ\\1\\projects\\Python\\6401marufjonovaa\\data_analysis\\.venv\\Lib\\site-packages\\pytrends\\request.py:260: FutureWarning: Downcasting object dtype arrays on .fillna, .ffill, .bfill is deprecated and will change in a future version. Call result.infer_objects(copy=False) instead. To opt-in to the future behavior, set `pd.set_option('future.no_silent_downcasting', True)`\n",
      "  df = df.fillna(False)\n",
      "2024-12-03 17:04:11,915 MainProcess services.service_data INFO     Get dataframe with size 169\n",
      "2024-12-03 17:04:12,701 MainProcess services.service_threads INFO     Succefull calculation of data. Saved to the file res1.xlsx\n"
     ]
    }
   ],
   "source": [
    "time.sleep(10)"
   ]
  },
  {
   "cell_type": "code",
   "execution_count": 6,
   "metadata": {},
   "outputs": [
    {
     "name": "stderr",
     "output_type": "stream",
     "text": [
      "2024-12-03 17:05:12,705 MainProcess services.service_threads INFO     Service stopped\n",
      "2024-12-03 17:05:12,709 MainProcess services.service_threads INFO     Service stopped\n"
     ]
    }
   ],
   "source": [
    "service_1.stop()\n",
    "service_2.stop()"
   ]
  }
 ],
 "metadata": {
  "kernelspec": {
   "display_name": ".venv",
   "language": "python",
   "name": "python3"
  },
  "language_info": {
   "codemirror_mode": {
    "name": "ipython",
    "version": 3
   },
   "file_extension": ".py",
   "mimetype": "text/x-python",
   "name": "python",
   "nbconvert_exporter": "python",
   "pygments_lexer": "ipython3",
   "version": "3.12.6"
  }
 },
 "nbformat": 4,
 "nbformat_minor": 2
}
